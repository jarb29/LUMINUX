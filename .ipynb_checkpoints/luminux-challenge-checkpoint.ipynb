{
 "cells": [
  {
   "cell_type": "markdown",
   "metadata": {},
   "source": [
    "# El planteamiento del ejercicio es el siguiente:"
   ]
  },
  {
   "cell_type": "markdown",
   "metadata": {},
   "source": [
    "El archivo transaccional_muestra.csv contiene un mes de transacciones de una empresa de retail; es un ejemplo similar a los datos con los que trabajamos habitualmente. En este ejercicio te pedimos lo siguiente:"
   ]
  },
  {
   "cell_type": "markdown",
   "metadata": {},
   "source": [
    "<b> 1. Primero dale una mirada a los datos para familiarizarte con ellos; los nombres de las columnas son auto explicativos.</b>\n"
   ]
  },
  {
   "cell_type": "code",
   "execution_count": 1,
   "metadata": {},
   "outputs": [
    {
     "name": "stdout",
     "output_type": "stream",
     "text": [
      "<class 'pandas.core.frame.DataFrame'>\n",
      "RangeIndex: 266617 entries, 0 to 266616\n",
      "Data columns (total 7 columns):\n",
      " #   Column          Non-Null Count   Dtype  \n",
      "---  ------          --------------   -----  \n",
      " 0   id_transaccion  266617 non-null  int64  \n",
      " 1   id_fecha        266617 non-null  object \n",
      " 2   id_tienda       266617 non-null  int64  \n",
      " 3   id_cliente      266617 non-null  object \n",
      " 4   monto           266617 non-null  float64\n",
      " 5   unidades        266617 non-null  int64  \n",
      " 6   id_producto     266617 non-null  int64  \n",
      "dtypes: float64(1), int64(4), object(2)\n",
      "memory usage: 14.2+ MB\n"
     ]
    }
   ],
   "source": [
    "import pandas as pd\n",
    "import numpy as np\n",
    "# Convistiendo el archivo .csv a data frame. \n",
    "\n",
    "df = pd.read_csv(\"transaccional_muestra.csv\")\n",
    "\n",
    "# Familiarizandome con los datos\n",
    "\n",
    "df.info()"
   ]
  },
  {
   "cell_type": "code",
   "execution_count": 2,
   "metadata": {},
   "outputs": [
    {
     "data": {
      "text/html": [
       "<div>\n",
       "<style scoped>\n",
       "    .dataframe tbody tr th:only-of-type {\n",
       "        vertical-align: middle;\n",
       "    }\n",
       "\n",
       "    .dataframe tbody tr th {\n",
       "        vertical-align: top;\n",
       "    }\n",
       "\n",
       "    .dataframe thead th {\n",
       "        text-align: right;\n",
       "    }\n",
       "</style>\n",
       "<table border=\"1\" class=\"dataframe\">\n",
       "  <thead>\n",
       "    <tr style=\"text-align: right;\">\n",
       "      <th></th>\n",
       "      <th>id_transaccion</th>\n",
       "      <th>id_tienda</th>\n",
       "      <th>monto</th>\n",
       "      <th>unidades</th>\n",
       "      <th>id_producto</th>\n",
       "    </tr>\n",
       "  </thead>\n",
       "  <tbody>\n",
       "    <tr>\n",
       "      <th>count</th>\n",
       "      <td>2.666170e+05</td>\n",
       "      <td>266617.000000</td>\n",
       "      <td>266617.000000</td>\n",
       "      <td>266617.000000</td>\n",
       "      <td>2.666170e+05</td>\n",
       "    </tr>\n",
       "    <tr>\n",
       "      <th>mean</th>\n",
       "      <td>8.168497e+04</td>\n",
       "      <td>10.128038</td>\n",
       "      <td>40.747171</td>\n",
       "      <td>1.035778</td>\n",
       "      <td>2.116181e+05</td>\n",
       "    </tr>\n",
       "    <tr>\n",
       "      <th>std</th>\n",
       "      <td>1.313679e+05</td>\n",
       "      <td>9.621381</td>\n",
       "      <td>86.104906</td>\n",
       "      <td>0.452394</td>\n",
       "      <td>3.480063e+05</td>\n",
       "    </tr>\n",
       "    <tr>\n",
       "      <th>min</th>\n",
       "      <td>0.000000e+00</td>\n",
       "      <td>1.000000</td>\n",
       "      <td>-3554.935162</td>\n",
       "      <td>1.000000</td>\n",
       "      <td>0.000000e+00</td>\n",
       "    </tr>\n",
       "    <tr>\n",
       "      <th>25%</th>\n",
       "      <td>3.881000e+04</td>\n",
       "      <td>3.000000</td>\n",
       "      <td>10.674900</td>\n",
       "      <td>1.000000</td>\n",
       "      <td>2.611000e+03</td>\n",
       "    </tr>\n",
       "    <tr>\n",
       "      <th>50%</th>\n",
       "      <td>7.705900e+04</td>\n",
       "      <td>7.000000</td>\n",
       "      <td>22.841575</td>\n",
       "      <td>1.000000</td>\n",
       "      <td>2.542700e+04</td>\n",
       "    </tr>\n",
       "    <tr>\n",
       "      <th>75%</th>\n",
       "      <td>1.168780e+05</td>\n",
       "      <td>12.000000</td>\n",
       "      <td>42.656136</td>\n",
       "      <td>1.000000</td>\n",
       "      <td>2.149330e+05</td>\n",
       "    </tr>\n",
       "    <tr>\n",
       "      <th>max</th>\n",
       "      <td>4.237486e+06</td>\n",
       "      <td>49.000000</td>\n",
       "      <td>3554.935162</td>\n",
       "      <td>53.000000</td>\n",
       "      <td>1.313809e+06</td>\n",
       "    </tr>\n",
       "  </tbody>\n",
       "</table>\n",
       "</div>"
      ],
      "text/plain": [
       "       id_transaccion      id_tienda          monto       unidades  \\\n",
       "count    2.666170e+05  266617.000000  266617.000000  266617.000000   \n",
       "mean     8.168497e+04      10.128038      40.747171       1.035778   \n",
       "std      1.313679e+05       9.621381      86.104906       0.452394   \n",
       "min      0.000000e+00       1.000000   -3554.935162       1.000000   \n",
       "25%      3.881000e+04       3.000000      10.674900       1.000000   \n",
       "50%      7.705900e+04       7.000000      22.841575       1.000000   \n",
       "75%      1.168780e+05      12.000000      42.656136       1.000000   \n",
       "max      4.237486e+06      49.000000    3554.935162      53.000000   \n",
       "\n",
       "        id_producto  \n",
       "count  2.666170e+05  \n",
       "mean   2.116181e+05  \n",
       "std    3.480063e+05  \n",
       "min    0.000000e+00  \n",
       "25%    2.611000e+03  \n",
       "50%    2.542700e+04  \n",
       "75%    2.149330e+05  \n",
       "max    1.313809e+06  "
      ]
     },
     "execution_count": 2,
     "metadata": {},
     "output_type": "execute_result"
    }
   ],
   "source": [
    "# Esta tabla me sirve para identificar valores no representttivos para el analisis\n",
    "# de manera rapida\n",
    "df.describe()"
   ]
  },
  {
   "cell_type": "code",
   "execution_count": 3,
   "metadata": {},
   "outputs": [
    {
     "data": {
      "text/html": [
       "<div>\n",
       "<style scoped>\n",
       "    .dataframe tbody tr th:only-of-type {\n",
       "        vertical-align: middle;\n",
       "    }\n",
       "\n",
       "    .dataframe tbody tr th {\n",
       "        vertical-align: top;\n",
       "    }\n",
       "\n",
       "    .dataframe thead th {\n",
       "        text-align: right;\n",
       "    }\n",
       "</style>\n",
       "<table border=\"1\" class=\"dataframe\">\n",
       "  <thead>\n",
       "    <tr style=\"text-align: right;\">\n",
       "      <th></th>\n",
       "      <th>id_transaccion</th>\n",
       "      <th>id_fecha</th>\n",
       "      <th>id_tienda</th>\n",
       "      <th>id_cliente</th>\n",
       "      <th>monto</th>\n",
       "      <th>unidades</th>\n",
       "      <th>id_producto</th>\n",
       "    </tr>\n",
       "  </thead>\n",
       "  <tbody>\n",
       "    <tr>\n",
       "      <th>0</th>\n",
       "      <td>3420</td>\n",
       "      <td>2018-03-02</td>\n",
       "      <td>1</td>\n",
       "      <td>14e8e09751058711deec7f160f2b34ec</td>\n",
       "      <td>9.176690</td>\n",
       "      <td>1</td>\n",
       "      <td>3523</td>\n",
       "    </tr>\n",
       "    <tr>\n",
       "      <th>1</th>\n",
       "      <td>2293</td>\n",
       "      <td>2018-03-02</td>\n",
       "      <td>11</td>\n",
       "      <td>bca2a43470e6f1097013d8a01ad2df73</td>\n",
       "      <td>16.691722</td>\n",
       "      <td>1</td>\n",
       "      <td>4883</td>\n",
       "    </tr>\n",
       "    <tr>\n",
       "      <th>2</th>\n",
       "      <td>2519</td>\n",
       "      <td>2018-03-02</td>\n",
       "      <td>1</td>\n",
       "      <td>a0b7648eed7a4f1da33f7de962f104b1</td>\n",
       "      <td>500.985471</td>\n",
       "      <td>1</td>\n",
       "      <td>209</td>\n",
       "    </tr>\n",
       "    <tr>\n",
       "      <th>3</th>\n",
       "      <td>2520</td>\n",
       "      <td>2018-03-02</td>\n",
       "      <td>1</td>\n",
       "      <td>546d432da6034e5a355c92192c09c687</td>\n",
       "      <td>30.043430</td>\n",
       "      <td>1</td>\n",
       "      <td>1127</td>\n",
       "    </tr>\n",
       "    <tr>\n",
       "      <th>4</th>\n",
       "      <td>3457</td>\n",
       "      <td>2018-03-02</td>\n",
       "      <td>1</td>\n",
       "      <td>14e8e09751058711deec7f160f2b34ec</td>\n",
       "      <td>9.176690</td>\n",
       "      <td>1</td>\n",
       "      <td>23945</td>\n",
       "    </tr>\n",
       "  </tbody>\n",
       "</table>\n",
       "</div>"
      ],
      "text/plain": [
       "   id_transaccion    id_fecha  id_tienda                        id_cliente  \\\n",
       "0            3420  2018-03-02          1  14e8e09751058711deec7f160f2b34ec   \n",
       "1            2293  2018-03-02         11  bca2a43470e6f1097013d8a01ad2df73   \n",
       "2            2519  2018-03-02          1  a0b7648eed7a4f1da33f7de962f104b1   \n",
       "3            2520  2018-03-02          1  546d432da6034e5a355c92192c09c687   \n",
       "4            3457  2018-03-02          1  14e8e09751058711deec7f160f2b34ec   \n",
       "\n",
       "        monto  unidades  id_producto  \n",
       "0    9.176690         1         3523  \n",
       "1   16.691722         1         4883  \n",
       "2  500.985471         1          209  \n",
       "3   30.043430         1         1127  \n",
       "4    9.176690         1        23945  "
      ]
     },
     "execution_count": 3,
     "metadata": {},
     "output_type": "execute_result"
    }
   ],
   "source": [
    "df.head()"
   ]
  },
  {
   "cell_type": "code",
   "execution_count": 10,
   "metadata": {},
   "outputs": [
    {
     "data": {
      "text/plain": [
       "Series([], Name: id_tienda, dtype: int64)"
      ]
     },
     "execution_count": 10,
     "metadata": {},
     "output_type": "execute_result"
    }
   ],
   "source": [
    "df[df['monto']==-3554.935162].value_counts()"
   ]
  },
  {
   "cell_type": "code",
   "execution_count": null,
   "metadata": {},
   "outputs": [],
   "source": [
    "2. ¿Hay outliers? Si hay, identifícalos y explica por qué los consideraste así.\n",
    "3. Trabajando sólo con los datos que correspondan a compras:\n",
    "3.1. Calcula el indicador \"Transacciones por cliente\" para cada tienda, y describe la distribución del indicador\n",
    "3.2. Calcula el indicador \"Ticket promedio\" (es decir, el monto total promedio por cada transacción) para cada tienda.\n",
    "3.2.1. ¿A qué se puede deber las diferencias en ticket promedio entre las distintas tiendas?\n",
    "4. La compañía desea hacer una segmentación básica de sus clientes. La idea es determinar un segmento de los \"clientes VIP\", es decir, sus mejores clientes, versus el resto de los clientes.\n",
    "4.1. Si sólo tuvieras acceso a estos datos, ¿cuál sería tu recomendación a la compañía? ¿Qué clientes elegirías y con qué parámetros los seleccionarías?\n",
    "4.2. Si pudieras pedir más datos para poder hacer esta segmentación, ¿qué datos pedirías?\n",
    "\n"
   ]
  }
 ],
 "metadata": {
  "kernelspec": {
   "display_name": "Python 3",
   "language": "python",
   "name": "python3"
  },
  "language_info": {
   "codemirror_mode": {
    "name": "ipython",
    "version": 3
   },
   "file_extension": ".py",
   "mimetype": "text/x-python",
   "name": "python",
   "nbconvert_exporter": "python",
   "pygments_lexer": "ipython3",
   "version": "3.7.7"
  }
 },
 "nbformat": 4,
 "nbformat_minor": 4
}
