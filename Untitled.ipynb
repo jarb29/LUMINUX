{
 "cells": [
  {
   "cell_type": "code",
   "execution_count": null,
   "metadata": {},
   "outputs": [],
   "source": [
    "El planteamiento del ejercicio es el siguiente:\n",
    "El archivo transaccional_muestra.csv contiene un mes de transacciones de una empresa de retail; \n",
    "es un ejemplo similar a los datos con los que trabajamos habitualmente. \n",
    "En este ejercicio te pedimos lo siguiente:"
   ]
  },
  {
   "cell_type": "code",
   "execution_count": null,
   "metadata": {},
   "outputs": [],
   "source": []
  },
  {
   "cell_type": "code",
   "execution_count": null,
   "metadata": {},
   "outputs": [],
   "source": [
    "1. Primero dale una mirada a los datos para familiarizarte con ellos; los nombres de las columnas son auto explicativos.\n",
    "2. ¿Hay outliers? Si hay, identifícalos y explica por qué los consideraste así.\n",
    "3. Trabajando sólo con los datos que correspondan a compras:\n",
    "3.1. Calcula el indicador \"Transacciones por cliente\" para cada tienda, y describe la distribución del indicador\n",
    "3.2. Calcula el indicador \"Ticket promedio\" (es decir, el monto total promedio por cada transacción) para cada tienda.\n",
    "3.2.1. ¿A qué se puede deber las diferencias en ticket promedio entre las distintas tiendas?\n",
    "4. La compañía desea hacer una segmentación básica de sus clientes. La idea es determinar un segmento de los \"clientes VIP\", es decir, sus mejores clientes, versus el resto de los clientes.\n",
    "4.1. Si sólo tuvieras acceso a estos datos, ¿cuál sería tu recomendación a la compañía? ¿Qué clientes elegirías y con qué parámetros los seleccionarías?\n",
    "4.2. Si pudieras pedir más datos para poder hacer esta segmentación, ¿qué datos pedirías?\n",
    "\n"
   ]
  }
 ],
 "metadata": {
  "kernelspec": {
   "display_name": "Python 3",
   "language": "python",
   "name": "python3"
  },
  "language_info": {
   "codemirror_mode": {
    "name": "ipython",
    "version": 3
   },
   "file_extension": ".py",
   "mimetype": "text/x-python",
   "name": "python",
   "nbconvert_exporter": "python",
   "pygments_lexer": "ipython3",
   "version": "3.7.4"
  }
 },
 "nbformat": 4,
 "nbformat_minor": 4
}
